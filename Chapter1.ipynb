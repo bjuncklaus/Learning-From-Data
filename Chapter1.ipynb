{
 "cells": [
  {
   "cell_type": "markdown",
   "metadata": {},
   "source": [
    "### Exercise 1.10"
   ]
  },
  {
   "cell_type": "markdown",
   "metadata": {},
   "source": [
    "Here is an experiment that illustrates the difference between a single bin and multiple bins. Run a computer simulation for flipping 1,000 fair coins. Flip each coin independently 10 times. Let’s focus on 3 coins as follows: $c_{1}$ is the first coin flipped; $c_{rand}$ is a coin you choose at random ; $c_{min}$ is the coin that had the minimum frequency of heads (pick the earlier one in case of a tie). Let $\\nu_{1}$, $\\nu_{rand}$, $\\nu_{min}$ be the fraction of heads you obtain for the respective three coins."
   ]
  },
  {
   "cell_type": "code",
   "execution_count": null,
   "metadata": {},
   "outputs": [],
   "source": [
    "import random\n",
    "# random.seed(19)"
   ]
  },
  {
   "cell_type": "markdown",
   "metadata": {},
   "source": [
    "#### I'm defining 0 as heads and 1 as tails"
   ]
  },
  {
   "cell_type": "code",
   "execution_count": null,
   "metadata": {},
   "outputs": [],
   "source": [
    "def run_experiment():\n",
    "    all_coin_flips = []\n",
    "    for _ in range(1000):\n",
    "        coin_flips = []\n",
    "        for _ in range(10):\n",
    "            coin_flips.append(random.randint(0,1))\n",
    "        all_coin_flips.append(coin_flips)\n",
    "    return all_coin_flips"
   ]
  },
  {
   "cell_type": "code",
   "execution_count": null,
   "metadata": {},
   "outputs": [],
   "source": [
    "'''\n",
    "Returns a Tuple -> (index_of_the_coin_flip, amount_of_heads_flipped)\n",
    "'''\n",
    "def get_cmin(all_coin_flips):\n",
    "    less_heads_index = -1\n",
    "    min_total_heads = 99\n",
    "    for i in range(len(all_coin_flips)):\n",
    "        current_total_heads_flip = 0\n",
    "        for flip in all_coin_flips[i]:\n",
    "            if (flip == 0):\n",
    "                current_total_heads_flip += 1\n",
    "        if (current_total_heads_flip < min_total_heads):\n",
    "            min_total_heads = current_total_heads_flip\n",
    "            less_heads_index = i\n",
    "    return (less_heads_index, min_total_heads)"
   ]
  },
  {
   "cell_type": "code",
   "execution_count": null,
   "metadata": {},
   "outputs": [],
   "source": [
    "'''\n",
    "Returns a Tuple -> (c1, crand, cmin)\n",
    "'''\n",
    "def get_c_variables():\n",
    "    all_coin_flips = run_experiment()\n",
    "    c1 = all_coin_flips[0][0]\n",
    "    crand = all_coin_flips[random.randint(0, 999)][random.randint(0, 9)]\n",
    "    cmin = get_cmin(all_coin_flips)\n",
    "    \n",
    "    return (c1, crand, cmin)"
   ]
  },
  {
   "cell_type": "markdown",
   "metadata": {},
   "source": [
    "#### 1. What is $\\mu$ for the three coins selected?"
   ]
  },
  {
   "cell_type": "markdown",
   "metadata": {},
   "source": [
    "We have a 50/50% chance of getting either heads or tails (assuming fair coins). Therefore we have that $\\mu_{1} = \\mu_{rand} = \\mu_{min} = 0.5$."
   ]
  },
  {
   "cell_type": "markdown",
   "metadata": {},
   "source": [
    "#### 2. Repeat this entire experiment a large number of times (e.g., 100,000 runs of the entire experiment) to get several instances of $\\nu_{1}$, $\\nu_{rand}$ and $\\nu_{min}$ and plot the histograms of the distribution of $\\nu_{1}$, $\\nu_{rand}$ and $\\nu_{min}$. Notice that which coins end up being $c_{rand}$ and $c_{min}$ may differ from one run to another."
   ]
  },
  {
   "cell_type": "code",
   "execution_count": null,
   "metadata": {},
   "outputs": [],
   "source": [
    "import matplotlib.pyplot as plt\n",
    "%matplotlib inline"
   ]
  },
  {
   "cell_type": "code",
   "execution_count": null,
   "metadata": {},
   "outputs": [],
   "source": []
  },
  {
   "cell_type": "code",
   "execution_count": null,
   "metadata": {},
   "outputs": [],
   "source": [
    "plt.hist(all_coin_flips, density=True, bins=30)"
   ]
  },
  {
   "cell_type": "markdown",
   "metadata": {},
   "source": [
    "$\\nu_{min}$ distribution"
   ]
  },
  {
   "cell_type": "markdown",
   "metadata": {},
   "source": [
    "$\n",
    "{\\mathbb{P}(\\nu_{min} = 0)} = {\\displaystyle 1 - \\prod_{n=1}^{1000} \\mathbb{P}(\\nu_n \\neq 0)} \\\\\n",
    "\\qquad\\qquad\\> = {\\displaystyle 1 - \\prod_{n=1}^{1000} \\big(\\mathbb{P}(\\nu_n = 0)\\big)} \\\\\n",
    "\\qquad\\qquad\\> = {\\displaystyle 1 - \\prod_{n=1}^{1000} \\big(1 - 0.5^{10}\\big)} \\\\\n",
    "\\qquad\\qquad\\> = {\\displaystyle 1 - \\big(1 - 0.5^{10}\\big)^{1000}} \\approx 0.6235762\\\\\n",
    "$"
   ]
  },
  {
   "cell_type": "markdown",
   "metadata": {},
   "source": [
    "#### 3. Using (b), plot estimates for  $\\mathbb{P} \\left [ \\left | \\nu - \\mu \\right | > \\epsilon \\right ]$ as a function of $\\epsilon$, together with the Hoeffding bound  $2e^{-2\\epsilon^{2}N}$ (on the same graph)."
   ]
  },
  {
   "cell_type": "code",
   "execution_count": null,
   "metadata": {},
   "outputs": [],
   "source": []
  }
 ],
 "metadata": {
  "kernelspec": {
   "display_name": "Python 3",
   "language": "python",
   "name": "python3"
  },
  "language_info": {
   "codemirror_mode": {
    "name": "ipython",
    "version": 3
   },
   "file_extension": ".py",
   "mimetype": "text/x-python",
   "name": "python",
   "nbconvert_exporter": "python",
   "pygments_lexer": "ipython3",
   "version": "3.6.3"
  }
 },
 "nbformat": 4,
 "nbformat_minor": 2
}
